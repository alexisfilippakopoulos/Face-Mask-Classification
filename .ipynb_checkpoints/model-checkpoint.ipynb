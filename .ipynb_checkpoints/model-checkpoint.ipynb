{
 "cells": [
  {
   "cell_type": "code",
   "execution_count": 1,
   "id": "474f6113",
   "metadata": {},
   "outputs": [],
   "source": [
    "from tensorflow.keras.preprocessing.image import ImageDataGenerator\n",
    "from tensorflow.keras.applications import MobileNetV2\n",
    "from tensorflow.keras.layers import AveragePooling2D\n",
    "from tensorflow.keras.layers import Dropout\n",
    "from tensorflow.keras.layers import Flatten\n",
    "from tensorflow.keras.layers import Dense\n",
    "from tensorflow.keras.layers import Input\n",
    "from tensorflow.keras.models import Model\n",
    "from tensorflow.keras.optimizers import Adam\n",
    "from tensorflow.keras.applications.mobilenet_v2 import preprocess_input\n",
    "from tensorflow.keras.preprocessing.image import img_to_array\n",
    "from tensorflow.keras.preprocessing.image import load_img\n",
    "from tensorflow.keras.utils import to_categorical\n",
    "from sklearn.preprocessing import LabelBinarizer\n",
    "from sklearn.model_selection import train_test_split\n",
    "from tensorflow.keras.callbacks import EarlyStopping, ModelCheckpoint\n",
    "from sklearn.metrics import classification_report\n",
    "from imutils import paths\n",
    "import random \n",
    "import matplotlib.pyplot as plt\n",
    "import numpy as np\n",
    "import os"
   ]
  },
  {
   "cell_type": "code",
   "execution_count": 2,
   "id": "b39100b3",
   "metadata": {},
   "outputs": [],
   "source": [
    "initial_learning_rate = 1e-4\n",
    "eps = 20\n",
    "batch = 32"
   ]
  },
  {
   "cell_type": "code",
   "execution_count": 3,
   "id": "3ea7270f",
   "metadata": {},
   "outputs": [],
   "source": [
    "categories = ['WithMask', 'WithoutMask']"
   ]
  },
  {
   "cell_type": "code",
   "execution_count": 4,
   "id": "2976c9d4",
   "metadata": {},
   "outputs": [],
   "source": [
    "Xt = []\n",
    "Yt = []\n",
    "Xv = []\n",
    "Yv = []\n",
    "Xte = []\n",
    "Yte = []"
   ]
  },
  {
   "cell_type": "code",
   "execution_count": 5,
   "id": "d269c7db",
   "metadata": {},
   "outputs": [],
   "source": [
    "pathGeneral = os.path.join(os.getcwd(),'Face Mask Dataset')\n",
    "pathTrain = [os.path.join(pathGeneral,'Train'), Xt, Yt]\n",
    "pathValid = [os.path.join(pathGeneral,'Validation'), Xv, Yv] \n",
    "pathTest = [os.path.join(pathGeneral,'Test'), Xte, Yte]\n",
    "paths = [pathTrain, pathValid, pathTest]"
   ]
  },
  {
   "cell_type": "code",
   "execution_count": 6,
   "id": "794ca25d",
   "metadata": {},
   "outputs": [],
   "source": [
    "img_size = 250\n",
    "\n",
    "for path in paths:\n",
    "    for c in categories:\n",
    "        folder = os.path.join(path[0],c)\n",
    "        for img in os.listdir(folder):\n",
    "            img_path = os.path.join(folder, img)\n",
    "            image = load_img(img_path, target_size = (224,224))\n",
    "            image = img_to_array(image)\n",
    "            image = preprocess_input(image)\n",
    "            path[1].append(image)\n",
    "            path[2].append(c)\n",
    "        "
   ]
  },
  {
   "cell_type": "code",
   "execution_count": 7,
   "id": "9ca52b78",
   "metadata": {},
   "outputs": [],
   "source": [
    "Xtrain = Xt\n",
    "Ytrain = Yt\n",
    "Xvalid = Xv\n",
    "Yvalid = Yv\n",
    "Xtest = Xte\n",
    "Ytest = Yte"
   ]
  },
  {
   "cell_type": "code",
   "execution_count": 8,
   "id": "e57ef299",
   "metadata": {},
   "outputs": [],
   "source": [
    "lb = LabelBinarizer()\n",
    "Ytrain = lb.fit_transform(Ytrain)\n",
    "Yvalid = lb.fit_transform(Yvalid)\n",
    "Ytest = lb.fit_transform(Ytest)\n",
    "Ytrain = to_categorical(Ytrain)\n",
    "Yvalid = to_categorical(Yvalid)\n",
    "Ytest = to_categorical(Ytest)"
   ]
  },
  {
   "cell_type": "code",
   "execution_count": 9,
   "id": "d32578eb",
   "metadata": {},
   "outputs": [],
   "source": [
    "Xtrain = np.array(Xtrain)\n",
    "Ytrain = np.array(Ytrain)\n",
    "Xvalid = np.array(Xvalid)\n",
    "Yvalid = np.array(Yvalid)\n",
    "Xtest = np.array(Xtest)\n",
    "Ytest = np.array(Ytest)"
   ]
  },
  {
   "cell_type": "code",
   "execution_count": 10,
   "id": "9b9785a2",
   "metadata": {},
   "outputs": [
    {
     "name": "stdout",
     "output_type": "stream",
     "text": [
      "WARNING:tensorflow:`input_shape` is undefined or non-square, or `rows` is not in [96, 128, 160, 192, 224]. Weights for input shape (224, 224) will be loaded as the default.\n"
     ]
    }
   ],
   "source": [
    "baseModel = MobileNetV2(weights = 'imagenet', include_top = False, \n",
    "                        input_tensor = Input(shape = (224, 224, 3)))"
   ]
  },
  {
   "cell_type": "code",
   "execution_count": 11,
   "id": "3af0c3d6",
   "metadata": {},
   "outputs": [],
   "source": [
    "headModel = baseModel.output\n",
    "headModel = AveragePooling2D(pool_size = (7,7))(headModel)\n",
    "headModel = Flatten(name = 'flatten')(headModel)\n",
    "headModel = Dense(128, activation = 'relu')(headModel)\n",
    "headModel = Dropout(0.5)(headModel)\n",
    "headModel = Dense(2, activation = 'softmax')(headModel)"
   ]
  },
  {
   "cell_type": "code",
   "execution_count": 12,
   "id": "06a49192",
   "metadata": {},
   "outputs": [],
   "source": [
    "model = Model(inputs = baseModel.input, outputs = headModel)"
   ]
  },
  {
   "cell_type": "code",
   "execution_count": 13,
   "id": "285a3bbd",
   "metadata": {},
   "outputs": [],
   "source": [
    "for layer in baseModel.layers:\n",
    "    layer.trainable = False"
   ]
  },
  {
   "cell_type": "code",
   "execution_count": 14,
   "id": "2adc7740",
   "metadata": {},
   "outputs": [],
   "source": [
    "opt = Adam(learning_rate = initial_learning_rate, decay = initial_learning_rate / eps)"
   ]
  },
  {
   "cell_type": "code",
   "execution_count": 15,
   "id": "5fba485d",
   "metadata": {},
   "outputs": [],
   "source": [
    "model.compile(loss = 'binary_crossentropy', optimizer = opt, metrics = ['accuracy'])"
   ]
  },
  {
   "cell_type": "code",
   "execution_count": 16,
   "id": "a37a497e",
   "metadata": {},
   "outputs": [],
   "source": [
    "callbacks = EarlyStopping(monitor='val_loss', patience=5, verbose=1, mode='auto')"
   ]
  },
  {
   "cell_type": "code",
   "execution_count": 17,
   "id": "c0f94ec3",
   "metadata": {
    "scrolled": true
   },
   "outputs": [
    {
     "name": "stdout",
     "output_type": "stream",
     "text": [
      "Epoch 1/20\n",
      "312/312 [==============================] - 209s 647ms/step - loss: 0.1555 - accuracy: 0.9489 - val_loss: 0.0395 - val_accuracy: 0.9937\n",
      "Epoch 2/20\n",
      "312/312 [==============================] - 197s 633ms/step - loss: 0.0402 - accuracy: 0.9889 - val_loss: 0.0246 - val_accuracy: 0.9950\n",
      "Epoch 3/20\n",
      "312/312 [==============================] - 194s 622ms/step - loss: 0.0257 - accuracy: 0.9930 - val_loss: 0.0212 - val_accuracy: 0.9962\n",
      "Epoch 4/20\n",
      "312/312 [==============================] - 194s 621ms/step - loss: 0.0210 - accuracy: 0.9937 - val_loss: 0.0162 - val_accuracy: 0.9962\n",
      "Epoch 5/20\n",
      "312/312 [==============================] - 195s 624ms/step - loss: 0.0152 - accuracy: 0.9952 - val_loss: 0.0141 - val_accuracy: 0.9950\n",
      "Epoch 6/20\n",
      "312/312 [==============================] - 200s 641ms/step - loss: 0.0134 - accuracy: 0.9959 - val_loss: 0.0133 - val_accuracy: 0.9962\n",
      "Epoch 7/20\n",
      "312/312 [==============================] - 217s 697ms/step - loss: 0.0115 - accuracy: 0.9968 - val_loss: 0.0119 - val_accuracy: 0.9962\n",
      "Epoch 8/20\n",
      "312/312 [==============================] - 218s 700ms/step - loss: 0.0093 - accuracy: 0.9972 - val_loss: 0.0111 - val_accuracy: 0.9962\n",
      "Epoch 9/20\n",
      "312/312 [==============================] - 196s 628ms/step - loss: 0.0078 - accuracy: 0.9976 - val_loss: 0.0131 - val_accuracy: 0.9950\n",
      "Epoch 10/20\n",
      "312/312 [==============================] - 193s 619ms/step - loss: 0.0070 - accuracy: 0.9977 - val_loss: 0.0103 - val_accuracy: 0.9975\n",
      "Epoch 11/20\n",
      "312/312 [==============================] - 196s 628ms/step - loss: 0.0060 - accuracy: 0.9984 - val_loss: 0.0108 - val_accuracy: 0.9975\n",
      "Epoch 12/20\n",
      "312/312 [==============================] - 195s 626ms/step - loss: 0.0047 - accuracy: 0.9989 - val_loss: 0.0112 - val_accuracy: 0.9950\n",
      "Epoch 13/20\n",
      "312/312 [==============================] - 194s 623ms/step - loss: 0.0042 - accuracy: 0.9990 - val_loss: 0.0091 - val_accuracy: 0.9987\n",
      "Epoch 14/20\n",
      "312/312 [==============================] - 194s 622ms/step - loss: 0.0044 - accuracy: 0.9987 - val_loss: 0.0127 - val_accuracy: 0.9950\n",
      "Epoch 15/20\n",
      "312/312 [==============================] - 195s 626ms/step - loss: 0.0030 - accuracy: 0.9997 - val_loss: 0.0100 - val_accuracy: 0.9975\n",
      "Epoch 16/20\n",
      "312/312 [==============================] - 195s 627ms/step - loss: 0.0027 - accuracy: 0.9997 - val_loss: 0.0118 - val_accuracy: 0.9962\n",
      "Epoch 17/20\n",
      "312/312 [==============================] - 193s 619ms/step - loss: 0.0026 - accuracy: 0.9995 - val_loss: 0.0116 - val_accuracy: 0.9962\n",
      "Epoch 18/20\n",
      "312/312 [==============================] - 193s 620ms/step - loss: 0.0025 - accuracy: 0.9994 - val_loss: 0.0108 - val_accuracy: 0.9975\n",
      "Epoch 18: early stopping\n"
     ]
    }
   ],
   "source": [
    "h = model.fit(\n",
    "    Xtrain,\n",
    "    Ytrain,\n",
    "    steps_per_epoch = len(Xtrain) // batch,\n",
    "    validation_data = (Xvalid, Yvalid),\n",
    "    validation_steps = len(Xvalid) // batch,\n",
    "    callbacks = [callbacks],\n",
    "    epochs = eps)\n",
    "    \n"
   ]
  },
  {
   "cell_type": "code",
   "execution_count": 18,
   "id": "923ea083",
   "metadata": {},
   "outputs": [
    {
     "name": "stdout",
     "output_type": "stream",
     "text": [
      "25/25 [==============================] - 15s 558ms/step\n"
     ]
    }
   ],
   "source": [
    "predIdxs = model.predict(Xvalid, batch_size=batch)"
   ]
  },
  {
   "cell_type": "code",
   "execution_count": 19,
   "id": "f3858240",
   "metadata": {},
   "outputs": [],
   "source": [
    "predIdxs = np.argmax(predIdxs, axis=1)"
   ]
  },
  {
   "cell_type": "code",
   "execution_count": 20,
   "id": "0a6f52d7",
   "metadata": {},
   "outputs": [
    {
     "name": "stdout",
     "output_type": "stream",
     "text": [
      "              precision    recall  f1-score   support\n",
      "\n",
      "    WithMask       1.00      1.00      1.00       400\n",
      " WithoutMask       1.00      0.99      1.00       400\n",
      "\n",
      "    accuracy                           1.00       800\n",
      "   macro avg       1.00      1.00      1.00       800\n",
      "weighted avg       1.00      1.00      1.00       800\n",
      "\n"
     ]
    }
   ],
   "source": [
    "print(classification_report(Yvalid.argmax(axis=1), predIdxs,\n",
    "\ttarget_names=lb.classes_))"
   ]
  },
  {
   "cell_type": "code",
   "execution_count": 21,
   "id": "b4fd72ec",
   "metadata": {},
   "outputs": [],
   "source": [
    "model.save(\"mask_detector.model\", save_format=\"h5\")"
   ]
  },
  {
   "cell_type": "code",
   "execution_count": 23,
   "id": "f115ba64",
   "metadata": {
    "scrolled": true
   },
   "outputs": [
    {
     "data": {
      "image/png": "[encoded data removed]",
      "text/plain": [
       "<Figure size 432x288 with 1 Axes>"
      ]
     },
     "metadata": {},
     "output_type": "display_data"
    }
   ],
   "source": [
    "N = 18\n",
    "plt.style.use(\"ggplot\")\n",
    "plt.figure()\n",
    "plt.plot(np.arange(0, N), h.history[\"loss\"], label=\"train_loss\")\n",
    "plt.plot(np.arange(0, N), h.history[\"val_loss\"], label=\"val_loss\")\n",
    "plt.plot(np.arange(0, N), h.history[\"accuracy\"], label=\"train_acc\")\n",
    "plt.plot(np.arange(0, N), h.history[\"val_accuracy\"], label=\"val_acc\")\n",
    "plt.title(\"Training Loss and Accuracy\")\n",
    "plt.xlabel(\"Epoch #\")\n",
    "plt.ylabel(\"Loss/Accuracy\")\n",
    "plt.legend(loc=\"lower left\")\n",
    "plt.savefig(\"plot.png\")"
   ]
  },
  {
   "cell_type": "code",
   "execution_count": 24,
   "id": "f842c041",
   "metadata": {},
   "outputs": [
    {
     "name": "stdout",
     "output_type": "stream",
     "text": [
      "31/31 [==============================] - 17s 551ms/step\n"
     ]
    }
   ],
   "source": [
    "prediction = model.predict(Xtest)"
   ]
  },
  {
   "cell_type": "code",
   "execution_count": 25,
   "id": "5393ac86",
   "metadata": {},
   "outputs": [],
   "source": [
    "prediction = np.argmax(prediction, axis = 1)"
   ]
  },
  {
   "cell_type": "code",
   "execution_count": 26,
   "id": "5e5d81fd",
   "metadata": {},
   "outputs": [],
   "source": [
    "Ytest = np.argmax(Ytest, axis = 1)"
   ]
  },
  {
   "cell_type": "code",
   "execution_count": 51,
   "id": "af2333a8",
   "metadata": {},
   "outputs": [],
   "source": [
    "correctPredictions = 0\n",
    "\n",
    "for i in range(len(prediction)):\n",
    "    if (prediction [i] == Ytest [i]):\n",
    "        correctPredictions +=1\n",
    "        "
   ]
  },
  {
   "cell_type": "code",
   "execution_count": 53,
   "id": "251638b6",
   "metadata": {},
   "outputs": [
    {
     "data": {
      "image/png": "[encoded data removed]",
      "text/plain": [
       "<Figure size 1440x360 with 1 Axes>"
      ]
     },
     "metadata": {},
     "output_type": "display_data"
    },
    {
     "name": "stdout",
     "output_type": "stream",
     "text": [
      "Number of tested images:  992\n",
      "Number of correct predictions:  988\n",
      "Number of incorrect predictions:  4\n",
      "Accuracy:  99.59677419354838 %\n"
     ]
    }
   ],
   "source": [
    "names = ['Tested Images', 'Correctly Predicted', 'Incorrectly Predicted']\n",
    "values = [len(Ytest), correctPredictions, len(prediction) - correctPredictions]\n",
    "plt.figure(figsize=(20, 5))\n",
    "plt.subplot(131)\n",
    "plt.bar(names, values)\n",
    "plt.title('Categorical Plotting')\n",
    "plt.show()\n",
    "print('Number of tested images: ', len(Ytest))\n",
    "        \n",
    "print('Number of correct predictions: ', correctPredictions)\n",
    "\n",
    "print('Number of incorrect predictions: ', len(prediction) - correctPredictions)\n",
    "\n",
    "print('Accuracy: ', (correctPredictions / len(prediction)* 100), '%')"
   ]
  },
  {
   "cell_type": "code",
   "execution_count": 54,
   "id": "32011040",
   "metadata": {},
   "outputs": [
    {
     "name": "stderr",
     "output_type": "stream",
     "text": [
      "C:\\Users\\User\\AppData\\Local\\Temp/ipykernel_11744/3586831639.py:1: UserWarning: color is redundantly defined by the 'color' keyword argument and the fmt string \"ro\" (-> color='r'). The keyword argument will take precedence.\n",
      "  plt.plot(Ytest, 'ro', color = 'blue')\n",
      "C:\\Users\\User\\AppData\\Local\\Temp/ipykernel_11744/3586831639.py:2: UserWarning: color is redundantly defined by the 'color' keyword argument and the fmt string \"ro\" (-> color='r'). The keyword argument will take precedence.\n",
      "  plt.plot(prediction, 'ro', color = 'yellow', label = 'Prediction')\n"
     ]
    },
    {
     "data": {
      "image/png": "[encoded data removed]",
      "text/plain": [
       "<Figure size 432x288 with 1 Axes>"
      ]
     },
     "metadata": {},
     "output_type": "display_data"
    }
   ],
   "source": [
    "plt.plot(Ytest, 'ro', color = 'blue')\n",
    "plt.plot(prediction, 'ro', color = 'yellow', label = 'Prediction')\n",
    "plt.title('(Yellow Correct / Blue Incorrect)(0 is With Mask / 1 is Without)')\n",
    "plt.xlabel('Number of tested images')\n",
    "plt.ylabel('Predictions')\n",
    "plt.show()\n"
   ]
  },
  {
   "cell_type": "code",
   "execution_count": null,
   "id": "aba28681",
   "metadata": {},
   "outputs": [],
   "source": []
  }
 ],
 "metadata": {
  "kernelspec": {
   "display_name": "Python 3 (ipykernel)",
   "language": "python",
   "name": "python3"
  },
  "language_info": {
   "codemirror_mode": {
    "name": "ipython",
    "version": 3
   },
   "file_extension": ".py",
   "mimetype": "text/x-python",
   "name": "python",
   "nbconvert_exporter": "python",
   "pygments_lexer": "ipython3",
   "version": "3.9.7"
  }
 },
 "nbformat": 4,
 "nbformat_minor": 5
}
